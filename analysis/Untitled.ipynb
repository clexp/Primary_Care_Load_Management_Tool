{
 "cells": [
  {
   "cell_type": "code",
   "execution_count": null,
   "id": "2e19904d-41f7-4117-bf08-bb06e13465e4",
   "metadata": {},
   "outputs": [],
   "source": []
  }
 ],
 "metadata": {
  "kernelspec": {
   "display_name": "",
   "name": ""
  },
  "language_info": {
   "name": ""
  }
 },
 "nbformat": 4,
 "nbformat_minor": 5
}
